{
 "cells": [
  {
   "cell_type": "markdown",
   "id": "155ead9b",
   "metadata": {},
   "source": [
    "# 01. Importing libraries "
   ]
  },
  {
   "cell_type": "code",
   "execution_count": 4,
   "id": "be031ae2",
   "metadata": {},
   "outputs": [],
   "source": [
    "# import libraries\n",
    "import pandas as pd\n",
    "import numpy as np\n",
    "import os"
   ]
  },
  {
   "cell_type": "markdown",
   "id": "3c950387",
   "metadata": {},
   "source": [
    "# 02. Data types"
   ]
  },
  {
   "cell_type": "code",
   "execution_count": 36,
   "id": "3f2ff314",
   "metadata": {},
   "outputs": [],
   "source": [
    "a = 50 \n",
    "b = 25\n",
    "c = 10 \n",
    "d = 2.5\n",
    "e = 150\n",
    "f = 7.5\n",
    "g = 'Hi, '\n",
    "h = 'friend'\n",
    "i = 'he'\n",
    "j = 'llo'\n",
    "k = 'ha'\n",
    "funny = k * 100"
   ]
  },
  {
   "cell_type": "code",
   "execution_count": 19,
   "id": "0431dca1",
   "metadata": {},
   "outputs": [
    {
     "data": {
      "text/plain": [
       "100"
      ]
     },
     "execution_count": 19,
     "metadata": {},
     "output_type": "execute_result"
    }
   ],
   "source": [
    "a + a"
   ]
  },
  {
   "cell_type": "code",
   "execution_count": 20,
   "id": "c1e5472c",
   "metadata": {},
   "outputs": [
    {
     "data": {
      "text/plain": [
       "100"
      ]
     },
     "execution_count": 20,
     "metadata": {},
     "output_type": "execute_result"
    }
   ],
   "source": [
    "a + b + b"
   ]
  },
  {
   "cell_type": "code",
   "execution_count": 22,
   "id": "f635589f",
   "metadata": {},
   "outputs": [
    {
     "data": {
      "text/plain": [
       "100.0"
      ]
     },
     "execution_count": 22,
     "metadata": {},
     "output_type": "execute_result"
    }
   ],
   "source": [
    "a + b + c + c + d + d "
   ]
  },
  {
   "cell_type": "code",
   "execution_count": 25,
   "id": "261f410b",
   "metadata": {},
   "outputs": [
    {
     "data": {
      "text/plain": [
       "100"
      ]
     },
     "execution_count": 25,
     "metadata": {},
     "output_type": "execute_result"
    }
   ],
   "source": [
    "e - a"
   ]
  },
  {
   "cell_type": "code",
   "execution_count": 28,
   "id": "bb1f5e70",
   "metadata": {},
   "outputs": [
    {
     "data": {
      "text/plain": [
       "3.0"
      ]
     },
     "execution_count": 28,
     "metadata": {},
     "output_type": "execute_result"
    }
   ],
   "source": [
    "f / d"
   ]
  },
  {
   "cell_type": "code",
   "execution_count": 32,
   "id": "172d684f",
   "metadata": {},
   "outputs": [
    {
     "data": {
      "text/plain": [
       "'hello'"
      ]
     },
     "execution_count": 32,
     "metadata": {},
     "output_type": "execute_result"
    }
   ],
   "source": [
    "i + j"
   ]
  },
  {
   "cell_type": "code",
   "execution_count": 33,
   "id": "22cfe548",
   "metadata": {},
   "outputs": [
    {
     "data": {
      "text/plain": [
       "'Hi, friend'"
      ]
     },
     "execution_count": 33,
     "metadata": {},
     "output_type": "execute_result"
    }
   ],
   "source": [
    "g + h"
   ]
  },
  {
   "cell_type": "code",
   "execution_count": 35,
   "id": "d464b2f7",
   "metadata": {},
   "outputs": [
    {
     "data": {
      "text/plain": [
       "'hello, friend'"
      ]
     },
     "execution_count": 35,
     "metadata": {},
     "output_type": "execute_result"
    }
   ],
   "source": [
    "i + j + ', ' + h"
   ]
  },
  {
   "cell_type": "code",
   "execution_count": 37,
   "id": "de988214",
   "metadata": {},
   "outputs": [
    {
     "name": "stdout",
     "output_type": "stream",
     "text": [
      "hahahahahahahahahahahahahahahahahahahahahahahahahahahahahahahahahahahahahahahahahahahahahahahahahahahahahahahahahahahahahahahahahahahahahahahahahahahahahahahahahahahahahahahahahahahahahahahahahahahaha\n"
     ]
    }
   ],
   "source": [
    "print(funny)"
   ]
  },
  {
   "cell_type": "code",
   "execution_count": null,
   "id": "d79f25ba",
   "metadata": {},
   "outputs": [],
   "source": []
  }
 ],
 "metadata": {
  "kernelspec": {
   "display_name": "Python 3 (ipykernel)",
   "language": "python",
   "name": "python3"
  },
  "language_info": {
   "codemirror_mode": {
    "name": "ipython",
    "version": 3
   },
   "file_extension": ".py",
   "mimetype": "text/x-python",
   "name": "python",
   "nbconvert_exporter": "python",
   "pygments_lexer": "ipython3",
   "version": "3.9.12"
  }
 },
 "nbformat": 4,
 "nbformat_minor": 5
}
